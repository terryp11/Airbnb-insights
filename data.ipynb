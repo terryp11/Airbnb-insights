{
 "cells": [
  {
   "cell_type": "code",
   "execution_count": 8,
   "metadata": {},
   "outputs": [],
   "source": [
    "import pandas as pd \n",
    "import os \n",
    "import sqlalchemy_jdbcapi\n",
    "import sqlalchemy\n",
    "import kaggle\n",
    "\n",
    "pwd = os.getcwd()"
   ]
  },
  {
   "cell_type": "code",
   "execution_count": 10,
   "metadata": {},
   "outputs": [
    {
     "name": "stdout",
     "output_type": "stream",
     "text": [
      "Dataset URL: https://www.kaggle.com/datasets/airbnb/boston\n"
     ]
    }
   ],
   "source": [
    "# Get and download our data using Kaggle api\n",
    "\n",
    "kaggle.api.authenticate()\n",
    "\n",
    "kaggle.api.dataset_download_files('airbnb/boston', pwd+'', unzip = True)"
   ]
  },
  {
   "cell_type": "code",
   "execution_count": 12,
   "metadata": {},
   "outputs": [],
   "source": [
    "# Creating pandas data frames from the csv files\n",
    "\n",
    "calendar = pd.read_csv('calendar.csv')\n",
    "listings = pd.read_csv('listings.csv')\n",
    "reviews = pd.read_csv('reviews.csv')"
   ]
  },
  {
   "cell_type": "code",
   "execution_count": 11,
   "metadata": {},
   "outputs": [
    {
     "name": "stdout",
     "output_type": "stream",
     "text": [
      "Connection to the localhost for user root created successfully.\n"
     ]
    }
   ],
   "source": [
    "from sqlalchemy import create_engine\n",
    "\n",
    "# DEFINE THE DATABASE CREDENTIALS\n",
    "user = 'root'\n",
    "password = ''\n",
    "host = 'localhost'\n",
    "port = 3306\n",
    "database = 'airbnb'\n",
    "\n",
    "# PYTHON FUNCTION TO CONNECT TO THE MYSQL DATABASE AND\n",
    "# RETURN THE SQLACHEMY ENGINE OBJECT\n",
    "def get_connection():\n",
    "\treturn create_engine(\n",
    "\t\turl=\"mysql+pymysql://{0}:{1}@{2}:{3}/{4}\".format(\n",
    "\t\t\tuser, password, host, port, database\n",
    "\t\t)\n",
    "\t)\n",
    "\n",
    "\n",
    "try:\n",
    "    engine = get_connection()\n",
    "    print(\n",
    "        f\"Connection to the {host} for user {user} created successfully.\")\n",
    "except Exception as ex:\n",
    "    print(\"Connection could not be made due to the following error: \\n\", ex)\n"
   ]
  },
  {
   "cell_type": "code",
   "execution_count": 16,
   "metadata": {},
   "outputs": [],
   "source": [
    "def import_to_db(df, df_name, database_engine):\n",
    "    try:\n",
    "        df.to_sql(df_name, database_engine)\n",
    "        print('Successfully uploaded:', df_name)\n",
    "    except Exception as ex:\n",
    "        print('Unsuccessfully uploaded:', df_name, ',Error:', ex)"
   ]
  },
  {
   "cell_type": "code",
   "execution_count": 17,
   "metadata": {},
   "outputs": [
    {
     "name": "stdout",
     "output_type": "stream",
     "text": [
      "Successfully uploaded: calendar\n",
      "Successfully uploaded: listings\n",
      "Successfully uploaded: reviews\n"
     ]
    }
   ],
   "source": [
    "import_to_db(calendar, 'calendar', engine)\n",
    "import_to_db(listings, 'listings', engine)\n",
    "import_to_db(reviews, 'reviews', engine)"
   ]
  }
 ],
 "metadata": {
  "kernelspec": {
   "display_name": "base1",
   "language": "python",
   "name": "python3"
  },
  "language_info": {
   "codemirror_mode": {
    "name": "ipython",
    "version": 3
   },
   "file_extension": ".py",
   "mimetype": "text/x-python",
   "name": "python",
   "nbconvert_exporter": "python",
   "pygments_lexer": "ipython3",
   "version": "3.12.5"
  },
  "orig_nbformat": 4
 },
 "nbformat": 4,
 "nbformat_minor": 2
}
